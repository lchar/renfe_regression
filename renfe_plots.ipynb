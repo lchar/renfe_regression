{
 "cells": [
  {
   "cell_type": "markdown",
   "metadata": {},
   "source": [
    "# Renfe Ticket Pricing Analysis"
   ]
  },
  {
   "cell_type": "markdown",
   "metadata": {},
   "source": [
    "Data set available at\n",
    "https://www.kaggle.com/thegurus/spanish-high-speed-rail-system-ticket-pricing\n"
   ]
  },
  {
   "cell_type": "code",
   "execution_count": 1,
   "metadata": {},
   "outputs": [],
   "source": [
    "import pandas as pd\n",
    "import numpy as np\n",
    "import matplotlib.pyplot as plt\n",
    "#import plotly.offline as py\n",
    "#import plotly.graph_objs as go\n",
    "import string\n",
    "import os\n",
    "#from sklearn.decomposition import PCA\n",
    "\n",
    "# This next import is for some date functions I created\n",
    "import timefuns as tf"
   ]
  },
  {
   "cell_type": "markdown",
   "metadata": {},
   "source": [
    "## Methods to extract time and date data"
   ]
  },
  {
   "cell_type": "code",
   "execution_count": 2,
   "metadata": {},
   "outputs": [],
   "source": [
    "def getHour(date):\n",
    "    return int(date[11:13])\n",
    "\n",
    "def getHourFloat(date):\n",
    "    return float(date[11:13]) + float(date[14:16])/60\n",
    "\n",
    "def getMonth(date):\n",
    "    return int(date[5:7])\n",
    "\n",
    "def getDate(date):\n",
    "    return date[:10]\n",
    "\n",
    "def weekday(date):\n",
    "    month = int(date[5:7])\n",
    "    day = int(date[8:10])\n",
    "    \n",
    "    daysPerMonth = [31, 28, 31, 30, 31, 30, 31, 31, 30, 31, 30, 31]\n",
    "    \n",
    "    weekdays = ['tuesday', 'wednesday', 'thursday', 'friday', 'saturday', 'sunday', 'monday']\n",
    "    \n",
    "    daysSince = day - 1\n",
    "    i = month - 1\n",
    "    while i > 0:\n",
    "        daysSince = daysSince + daysPerMonth[i-1]\n",
    "        i = i - 1\n",
    "        \n",
    "    return weekdays[daysSince % 7]"
   ]
  },
  {
   "cell_type": "markdown",
   "metadata": {},
   "source": [
    "## Importing the raw data"
   ]
  },
  {
   "cell_type": "markdown",
   "metadata": {},
   "source": [
    "### Looking at the columns"
   ]
  },
  {
   "cell_type": "code",
   "execution_count": 3,
   "metadata": {},
   "outputs": [
    {
     "name": "stdout",
     "output_type": "stream",
     "text": [
      "['Unnamed: 0', 'insert_date', 'origin', 'destination', 'start_date', 'end_date', 'train_type', 'price', 'train_class', 'fare']\n"
     ]
    }
   ],
   "source": [
    "cols = list(pd.read_csv(\"renfe.csv\", nrows =1))\n",
    "print(cols)"
   ]
  },
  {
   "cell_type": "markdown",
   "metadata": {},
   "source": [
    "### Reading the data file"
   ]
  },
  {
   "cell_type": "code",
   "execution_count": 4,
   "metadata": {},
   "outputs": [],
   "source": [
    "raw_data = pd.read_csv(\"renfe.csv\", dtype = 'str', usecols = [i for i in cols if i != 'Unnamed: 0'])"
   ]
  },
  {
   "cell_type": "code",
   "execution_count": 5,
   "metadata": {},
   "outputs": [
    {
     "data": {
      "text/plain": [
       "(2579771, 9)"
      ]
     },
     "execution_count": 5,
     "metadata": {},
     "output_type": "execute_result"
    }
   ],
   "source": [
    "raw_data.shape"
   ]
  },
  {
   "cell_type": "code",
   "execution_count": 6,
   "metadata": {},
   "outputs": [
    {
     "data": {
      "text/html": [
       "<div>\n",
       "<style scoped>\n",
       "    .dataframe tbody tr th:only-of-type {\n",
       "        vertical-align: middle;\n",
       "    }\n",
       "\n",
       "    .dataframe tbody tr th {\n",
       "        vertical-align: top;\n",
       "    }\n",
       "\n",
       "    .dataframe thead th {\n",
       "        text-align: right;\n",
       "    }\n",
       "</style>\n",
       "<table border=\"1\" class=\"dataframe\">\n",
       "  <thead>\n",
       "    <tr style=\"text-align: right;\">\n",
       "      <th></th>\n",
       "      <th>insert_date</th>\n",
       "      <th>origin</th>\n",
       "      <th>destination</th>\n",
       "      <th>start_date</th>\n",
       "      <th>end_date</th>\n",
       "      <th>train_type</th>\n",
       "      <th>price</th>\n",
       "      <th>train_class</th>\n",
       "      <th>fare</th>\n",
       "    </tr>\n",
       "  </thead>\n",
       "  <tbody>\n",
       "    <tr>\n",
       "      <th>0</th>\n",
       "      <td>2019-04-19 05:31:43</td>\n",
       "      <td>MADRID</td>\n",
       "      <td>SEVILLA</td>\n",
       "      <td>2019-05-29 06:20:00</td>\n",
       "      <td>2019-05-29 09:16:00</td>\n",
       "      <td>AV City</td>\n",
       "      <td>38.55</td>\n",
       "      <td>Turista</td>\n",
       "      <td>Promo</td>\n",
       "    </tr>\n",
       "    <tr>\n",
       "      <th>1</th>\n",
       "      <td>2019-04-19 05:31:43</td>\n",
       "      <td>MADRID</td>\n",
       "      <td>SEVILLA</td>\n",
       "      <td>2019-05-29 07:00:00</td>\n",
       "      <td>2019-05-29 09:32:00</td>\n",
       "      <td>AVE</td>\n",
       "      <td>53.4</td>\n",
       "      <td>Turista</td>\n",
       "      <td>Promo</td>\n",
       "    </tr>\n",
       "    <tr>\n",
       "      <th>2</th>\n",
       "      <td>2019-04-19 05:31:43</td>\n",
       "      <td>MADRID</td>\n",
       "      <td>SEVILLA</td>\n",
       "      <td>2019-05-29 07:30:00</td>\n",
       "      <td>2019-05-29 09:51:00</td>\n",
       "      <td>AVE</td>\n",
       "      <td>47.3</td>\n",
       "      <td>Turista</td>\n",
       "      <td>Promo</td>\n",
       "    </tr>\n",
       "    <tr>\n",
       "      <th>3</th>\n",
       "      <td>2019-04-19 05:31:43</td>\n",
       "      <td>MADRID</td>\n",
       "      <td>SEVILLA</td>\n",
       "      <td>2019-05-29 08:00:00</td>\n",
       "      <td>2019-05-29 10:32:00</td>\n",
       "      <td>AVE</td>\n",
       "      <td>69.4</td>\n",
       "      <td>Preferente</td>\n",
       "      <td>Promo</td>\n",
       "    </tr>\n",
       "    <tr>\n",
       "      <th>4</th>\n",
       "      <td>2019-04-19 05:31:43</td>\n",
       "      <td>MADRID</td>\n",
       "      <td>SEVILLA</td>\n",
       "      <td>2019-05-29 08:30:00</td>\n",
       "      <td>2019-05-29 11:14:00</td>\n",
       "      <td>ALVIA</td>\n",
       "      <td>NaN</td>\n",
       "      <td>Turista</td>\n",
       "      <td>Promo</td>\n",
       "    </tr>\n",
       "  </tbody>\n",
       "</table>\n",
       "</div>"
      ],
      "text/plain": [
       "           insert_date  origin destination           start_date  \\\n",
       "0  2019-04-19 05:31:43  MADRID     SEVILLA  2019-05-29 06:20:00   \n",
       "1  2019-04-19 05:31:43  MADRID     SEVILLA  2019-05-29 07:00:00   \n",
       "2  2019-04-19 05:31:43  MADRID     SEVILLA  2019-05-29 07:30:00   \n",
       "3  2019-04-19 05:31:43  MADRID     SEVILLA  2019-05-29 08:00:00   \n",
       "4  2019-04-19 05:31:43  MADRID     SEVILLA  2019-05-29 08:30:00   \n",
       "\n",
       "              end_date train_type  price train_class   fare  \n",
       "0  2019-05-29 09:16:00    AV City  38.55     Turista  Promo  \n",
       "1  2019-05-29 09:32:00        AVE   53.4     Turista  Promo  \n",
       "2  2019-05-29 09:51:00        AVE   47.3     Turista  Promo  \n",
       "3  2019-05-29 10:32:00        AVE   69.4  Preferente  Promo  \n",
       "4  2019-05-29 11:14:00      ALVIA    NaN     Turista  Promo  "
      ]
     },
     "execution_count": 6,
     "metadata": {},
     "output_type": "execute_result"
    }
   ],
   "source": [
    "raw_data.head()"
   ]
  },
  {
   "cell_type": "code",
   "execution_count": 7,
   "metadata": {},
   "outputs": [
    {
     "data": {
      "text/plain": [
       "'MADRID'"
      ]
     },
     "execution_count": 7,
     "metadata": {},
     "output_type": "execute_result"
    }
   ],
   "source": [
    "raw_data['destination'][123456]"
   ]
  },
  {
   "cell_type": "code",
   "execution_count": null,
   "metadata": {},
   "outputs": [],
   "source": []
  },
  {
   "cell_type": "markdown",
   "metadata": {},
   "source": [
    "### We explore the different types of trains, fares, classes, and destinations"
   ]
  },
  {
   "cell_type": "code",
   "execution_count": 8,
   "metadata": {},
   "outputs": [
    {
     "name": "stdout",
     "output_type": "stream",
     "text": [
      "['Turista', 'Preferente', 'Turista con enlace', 'Turista Plus', nan, 'Cama G. Clase', 'Cama Turista']\n"
     ]
    }
   ],
   "source": [
    "classes = raw_data['train_class'].unique().tolist()\n",
    "print(classes)"
   ]
  },
  {
   "cell_type": "code",
   "execution_count": 9,
   "metadata": {},
   "outputs": [
    {
     "name": "stdout",
     "output_type": "stream",
     "text": [
      "['AV City', 'AVE', 'ALVIA', 'INTERCITY', 'MD-LD', 'MD', 'LD-MD', 'LD', 'MD-AVE', 'TRENHOTEL', 'AVE-LD', 'REGIONAL', 'AVE-MD', 'R. EXPRES', 'AVE-TGV', 'LD-AVE']\n"
     ]
    }
   ],
   "source": [
    "trainTypes = raw_data['train_type'].unique().tolist()\n",
    "print(trainTypes)"
   ]
  },
  {
   "cell_type": "code",
   "execution_count": 10,
   "metadata": {},
   "outputs": [
    {
     "name": "stdout",
     "output_type": "stream",
     "text": [
      "['Promo', 'Flexible', 'Promo +', nan, 'Individual-Flexible', 'Adulto ida', 'Mesa', 'Grupos Ida']\n"
     ]
    }
   ],
   "source": [
    "fares = raw_data['fare'].unique().tolist()\n",
    "print(fares)"
   ]
  },
  {
   "cell_type": "code",
   "execution_count": 11,
   "metadata": {},
   "outputs": [
    {
     "name": "stdout",
     "output_type": "stream",
     "text": [
      "['MADRID', 'SEVILLA', 'PONFERRADA', 'BARCELONA', 'VALENCIA']\n",
      "['SEVILLA', 'MADRID', 'VALENCIA', 'BARCELONA', 'PONFERRADA']\n"
     ]
    }
   ],
   "source": [
    "origins = raw_data['origin'].unique().tolist()\n",
    "destinations = raw_data['destination'].unique().tolist()\n",
    "print(origins)\n",
    "print(destinations)"
   ]
  },
  {
   "cell_type": "code",
   "execution_count": 12,
   "metadata": {},
   "outputs": [],
   "source": [
    "stage = raw_data.loc[(raw_data['origin'] == 'MADRID') & \n",
    "                     (raw_data['destination'] == 'BARCELONA') &\n",
    "                     (raw_data['train_type'] == 'AVE')]\n",
    "stage = stage.dropna(subset = ['price'])"
   ]
  },
  {
   "cell_type": "code",
   "execution_count": 13,
   "metadata": {},
   "outputs": [
    {
     "name": "stdout",
     "output_type": "stream",
     "text": [
      "(407656, 9)\n"
     ]
    },
    {
     "data": {
      "text/html": [
       "<div>\n",
       "<style scoped>\n",
       "    .dataframe tbody tr th:only-of-type {\n",
       "        vertical-align: middle;\n",
       "    }\n",
       "\n",
       "    .dataframe tbody tr th {\n",
       "        vertical-align: top;\n",
       "    }\n",
       "\n",
       "    .dataframe thead th {\n",
       "        text-align: right;\n",
       "    }\n",
       "</style>\n",
       "<table border=\"1\" class=\"dataframe\">\n",
       "  <thead>\n",
       "    <tr style=\"text-align: right;\">\n",
       "      <th></th>\n",
       "      <th>insert_date</th>\n",
       "      <th>origin</th>\n",
       "      <th>destination</th>\n",
       "      <th>start_date</th>\n",
       "      <th>end_date</th>\n",
       "      <th>train_type</th>\n",
       "      <th>price</th>\n",
       "      <th>train_class</th>\n",
       "      <th>fare</th>\n",
       "    </tr>\n",
       "  </thead>\n",
       "  <tbody>\n",
       "    <tr>\n",
       "      <th>1906</th>\n",
       "      <td>2019-04-19 06:00:47</td>\n",
       "      <td>MADRID</td>\n",
       "      <td>BARCELONA</td>\n",
       "      <td>2019-04-27 06:20:00</td>\n",
       "      <td>2019-04-27 09:29:00</td>\n",
       "      <td>AVE</td>\n",
       "      <td>86.8</td>\n",
       "      <td>Preferente</td>\n",
       "      <td>Promo</td>\n",
       "    </tr>\n",
       "    <tr>\n",
       "      <th>1907</th>\n",
       "      <td>2019-04-19 06:00:47</td>\n",
       "      <td>MADRID</td>\n",
       "      <td>BARCELONA</td>\n",
       "      <td>2019-04-27 07:30:00</td>\n",
       "      <td>2019-04-27 10:40:00</td>\n",
       "      <td>AVE</td>\n",
       "      <td>75.4</td>\n",
       "      <td>Turista</td>\n",
       "      <td>Promo</td>\n",
       "    </tr>\n",
       "    <tr>\n",
       "      <th>1908</th>\n",
       "      <td>2019-04-19 06:00:47</td>\n",
       "      <td>MADRID</td>\n",
       "      <td>BARCELONA</td>\n",
       "      <td>2019-04-27 08:30:00</td>\n",
       "      <td>2019-04-27 11:15:00</td>\n",
       "      <td>AVE</td>\n",
       "      <td>107.7</td>\n",
       "      <td>Turista</td>\n",
       "      <td>Flexible</td>\n",
       "    </tr>\n",
       "    <tr>\n",
       "      <th>1909</th>\n",
       "      <td>2019-04-19 06:00:47</td>\n",
       "      <td>MADRID</td>\n",
       "      <td>BARCELONA</td>\n",
       "      <td>2019-04-27 09:30:00</td>\n",
       "      <td>2019-04-27 12:34:00</td>\n",
       "      <td>AVE</td>\n",
       "      <td>107.7</td>\n",
       "      <td>Turista</td>\n",
       "      <td>Flexible</td>\n",
       "    </tr>\n",
       "    <tr>\n",
       "      <th>1910</th>\n",
       "      <td>2019-04-19 06:00:47</td>\n",
       "      <td>MADRID</td>\n",
       "      <td>BARCELONA</td>\n",
       "      <td>2019-04-27 10:30:00</td>\n",
       "      <td>2019-04-27 13:15:00</td>\n",
       "      <td>AVE</td>\n",
       "      <td>80.15</td>\n",
       "      <td>Turista Plus</td>\n",
       "      <td>Promo</td>\n",
       "    </tr>\n",
       "    <tr>\n",
       "      <th>1911</th>\n",
       "      <td>2019-04-19 06:00:47</td>\n",
       "      <td>MADRID</td>\n",
       "      <td>BARCELONA</td>\n",
       "      <td>2019-04-27 11:30:00</td>\n",
       "      <td>2019-04-27 14:40:00</td>\n",
       "      <td>AVE</td>\n",
       "      <td>102.15</td>\n",
       "      <td>Turista Plus</td>\n",
       "      <td>Promo</td>\n",
       "    </tr>\n",
       "    <tr>\n",
       "      <th>1912</th>\n",
       "      <td>2019-04-19 06:00:47</td>\n",
       "      <td>MADRID</td>\n",
       "      <td>BARCELONA</td>\n",
       "      <td>2019-04-27 12:30:00</td>\n",
       "      <td>2019-04-27 15:30:00</td>\n",
       "      <td>AVE</td>\n",
       "      <td>107.7</td>\n",
       "      <td>Turista</td>\n",
       "      <td>Flexible</td>\n",
       "    </tr>\n",
       "    <tr>\n",
       "      <th>1914</th>\n",
       "      <td>2019-04-19 06:00:47</td>\n",
       "      <td>MADRID</td>\n",
       "      <td>BARCELONA</td>\n",
       "      <td>2019-04-27 15:30:00</td>\n",
       "      <td>2019-04-27 18:40:00</td>\n",
       "      <td>AVE</td>\n",
       "      <td>69.8</td>\n",
       "      <td>Turista Plus</td>\n",
       "      <td>Promo</td>\n",
       "    </tr>\n",
       "    <tr>\n",
       "      <th>1915</th>\n",
       "      <td>2019-04-19 06:00:47</td>\n",
       "      <td>MADRID</td>\n",
       "      <td>BARCELONA</td>\n",
       "      <td>2019-04-27 16:30:00</td>\n",
       "      <td>2019-04-27 19:15:00</td>\n",
       "      <td>AVE</td>\n",
       "      <td>66.75</td>\n",
       "      <td>Turista</td>\n",
       "      <td>Promo</td>\n",
       "    </tr>\n",
       "    <tr>\n",
       "      <th>1916</th>\n",
       "      <td>2019-04-19 06:00:47</td>\n",
       "      <td>MADRID</td>\n",
       "      <td>BARCELONA</td>\n",
       "      <td>2019-04-27 17:30:00</td>\n",
       "      <td>2019-04-27 20:40:00</td>\n",
       "      <td>AVE</td>\n",
       "      <td>58.15</td>\n",
       "      <td>Turista</td>\n",
       "      <td>Promo</td>\n",
       "    </tr>\n",
       "  </tbody>\n",
       "</table>\n",
       "</div>"
      ],
      "text/plain": [
       "              insert_date  origin destination           start_date  \\\n",
       "1906  2019-04-19 06:00:47  MADRID   BARCELONA  2019-04-27 06:20:00   \n",
       "1907  2019-04-19 06:00:47  MADRID   BARCELONA  2019-04-27 07:30:00   \n",
       "1908  2019-04-19 06:00:47  MADRID   BARCELONA  2019-04-27 08:30:00   \n",
       "1909  2019-04-19 06:00:47  MADRID   BARCELONA  2019-04-27 09:30:00   \n",
       "1910  2019-04-19 06:00:47  MADRID   BARCELONA  2019-04-27 10:30:00   \n",
       "1911  2019-04-19 06:00:47  MADRID   BARCELONA  2019-04-27 11:30:00   \n",
       "1912  2019-04-19 06:00:47  MADRID   BARCELONA  2019-04-27 12:30:00   \n",
       "1914  2019-04-19 06:00:47  MADRID   BARCELONA  2019-04-27 15:30:00   \n",
       "1915  2019-04-19 06:00:47  MADRID   BARCELONA  2019-04-27 16:30:00   \n",
       "1916  2019-04-19 06:00:47  MADRID   BARCELONA  2019-04-27 17:30:00   \n",
       "\n",
       "                 end_date train_type   price   train_class      fare  \n",
       "1906  2019-04-27 09:29:00        AVE    86.8    Preferente     Promo  \n",
       "1907  2019-04-27 10:40:00        AVE    75.4       Turista     Promo  \n",
       "1908  2019-04-27 11:15:00        AVE   107.7       Turista  Flexible  \n",
       "1909  2019-04-27 12:34:00        AVE   107.7       Turista  Flexible  \n",
       "1910  2019-04-27 13:15:00        AVE   80.15  Turista Plus     Promo  \n",
       "1911  2019-04-27 14:40:00        AVE  102.15  Turista Plus     Promo  \n",
       "1912  2019-04-27 15:30:00        AVE   107.7       Turista  Flexible  \n",
       "1914  2019-04-27 18:40:00        AVE    69.8  Turista Plus     Promo  \n",
       "1915  2019-04-27 19:15:00        AVE   66.75       Turista     Promo  \n",
       "1916  2019-04-27 20:40:00        AVE   58.15       Turista     Promo  "
      ]
     },
     "execution_count": 13,
     "metadata": {},
     "output_type": "execute_result"
    }
   ],
   "source": [
    "print(stage.shape)\n",
    "stage.head(10)"
   ]
  },
  {
   "cell_type": "markdown",
   "metadata": {},
   "source": [
    "We check the first date"
   ]
  },
  {
   "cell_type": "code",
   "execution_count": 14,
   "metadata": {},
   "outputs": [
    {
     "data": {
      "text/plain": [
       "'2019-04-12 05:50:00'"
      ]
     },
     "execution_count": 14,
     "metadata": {},
     "output_type": "execute_result"
    }
   ],
   "source": [
    "min(stage['start_date'])"
   ]
  },
  {
   "cell_type": "markdown",
   "metadata": {},
   "source": [
    "We add a 'weekday' column, that we will use for further analysis."
   ]
  },
  {
   "cell_type": "code",
   "execution_count": 15,
   "metadata": {},
   "outputs": [
    {
     "data": {
      "text/html": [
       "<div>\n",
       "<style scoped>\n",
       "    .dataframe tbody tr th:only-of-type {\n",
       "        vertical-align: middle;\n",
       "    }\n",
       "\n",
       "    .dataframe tbody tr th {\n",
       "        vertical-align: top;\n",
       "    }\n",
       "\n",
       "    .dataframe thead th {\n",
       "        text-align: right;\n",
       "    }\n",
       "</style>\n",
       "<table border=\"1\" class=\"dataframe\">\n",
       "  <thead>\n",
       "    <tr style=\"text-align: right;\">\n",
       "      <th></th>\n",
       "      <th>insert_date</th>\n",
       "      <th>origin</th>\n",
       "      <th>destination</th>\n",
       "      <th>start_date</th>\n",
       "      <th>end_date</th>\n",
       "      <th>train_type</th>\n",
       "      <th>price</th>\n",
       "      <th>train_class</th>\n",
       "      <th>fare</th>\n",
       "      <th>weekday</th>\n",
       "    </tr>\n",
       "  </thead>\n",
       "  <tbody>\n",
       "    <tr>\n",
       "      <th>1906</th>\n",
       "      <td>2019-04-19 06:00:47</td>\n",
       "      <td>MADRID</td>\n",
       "      <td>BARCELONA</td>\n",
       "      <td>2019-04-27 06:20:00</td>\n",
       "      <td>2019-04-27 09:29:00</td>\n",
       "      <td>AVE</td>\n",
       "      <td>86.8</td>\n",
       "      <td>Preferente</td>\n",
       "      <td>Promo</td>\n",
       "      <td>saturday</td>\n",
       "    </tr>\n",
       "    <tr>\n",
       "      <th>1907</th>\n",
       "      <td>2019-04-19 06:00:47</td>\n",
       "      <td>MADRID</td>\n",
       "      <td>BARCELONA</td>\n",
       "      <td>2019-04-27 07:30:00</td>\n",
       "      <td>2019-04-27 10:40:00</td>\n",
       "      <td>AVE</td>\n",
       "      <td>75.4</td>\n",
       "      <td>Turista</td>\n",
       "      <td>Promo</td>\n",
       "      <td>saturday</td>\n",
       "    </tr>\n",
       "    <tr>\n",
       "      <th>1908</th>\n",
       "      <td>2019-04-19 06:00:47</td>\n",
       "      <td>MADRID</td>\n",
       "      <td>BARCELONA</td>\n",
       "      <td>2019-04-27 08:30:00</td>\n",
       "      <td>2019-04-27 11:15:00</td>\n",
       "      <td>AVE</td>\n",
       "      <td>107.7</td>\n",
       "      <td>Turista</td>\n",
       "      <td>Flexible</td>\n",
       "      <td>saturday</td>\n",
       "    </tr>\n",
       "    <tr>\n",
       "      <th>1909</th>\n",
       "      <td>2019-04-19 06:00:47</td>\n",
       "      <td>MADRID</td>\n",
       "      <td>BARCELONA</td>\n",
       "      <td>2019-04-27 09:30:00</td>\n",
       "      <td>2019-04-27 12:34:00</td>\n",
       "      <td>AVE</td>\n",
       "      <td>107.7</td>\n",
       "      <td>Turista</td>\n",
       "      <td>Flexible</td>\n",
       "      <td>saturday</td>\n",
       "    </tr>\n",
       "    <tr>\n",
       "      <th>1910</th>\n",
       "      <td>2019-04-19 06:00:47</td>\n",
       "      <td>MADRID</td>\n",
       "      <td>BARCELONA</td>\n",
       "      <td>2019-04-27 10:30:00</td>\n",
       "      <td>2019-04-27 13:15:00</td>\n",
       "      <td>AVE</td>\n",
       "      <td>80.15</td>\n",
       "      <td>Turista Plus</td>\n",
       "      <td>Promo</td>\n",
       "      <td>saturday</td>\n",
       "    </tr>\n",
       "  </tbody>\n",
       "</table>\n",
       "</div>"
      ],
      "text/plain": [
       "              insert_date  origin destination           start_date  \\\n",
       "1906  2019-04-19 06:00:47  MADRID   BARCELONA  2019-04-27 06:20:00   \n",
       "1907  2019-04-19 06:00:47  MADRID   BARCELONA  2019-04-27 07:30:00   \n",
       "1908  2019-04-19 06:00:47  MADRID   BARCELONA  2019-04-27 08:30:00   \n",
       "1909  2019-04-19 06:00:47  MADRID   BARCELONA  2019-04-27 09:30:00   \n",
       "1910  2019-04-19 06:00:47  MADRID   BARCELONA  2019-04-27 10:30:00   \n",
       "\n",
       "                 end_date train_type  price   train_class      fare   weekday  \n",
       "1906  2019-04-27 09:29:00        AVE   86.8    Preferente     Promo  saturday  \n",
       "1907  2019-04-27 10:40:00        AVE   75.4       Turista     Promo  saturday  \n",
       "1908  2019-04-27 11:15:00        AVE  107.7       Turista  Flexible  saturday  \n",
       "1909  2019-04-27 12:34:00        AVE  107.7       Turista  Flexible  saturday  \n",
       "1910  2019-04-27 13:15:00        AVE  80.15  Turista Plus     Promo  saturday  "
      ]
     },
     "execution_count": 15,
     "metadata": {},
     "output_type": "execute_result"
    }
   ],
   "source": [
    "stage['weekday'] = stage['start_date'].apply(tf.weekday)\n",
    "stage.head()"
   ]
  },
  {
   "cell_type": "markdown",
   "metadata": {},
   "source": [
    "We separate the two fare types"
   ]
  },
  {
   "cell_type": "code",
   "execution_count": 16,
   "metadata": {},
   "outputs": [],
   "source": [
    "stageProm = stage.loc[stage['fare'] == 'Promo']\n",
    "stageFlex = stage.loc[stage['fare'] == 'Flexible']"
   ]
  },
  {
   "cell_type": "markdown",
   "metadata": {},
   "source": [
    "These functions compute the average and standard deviation in ticket prices of each train trip per weekday."
   ]
  },
  {
   "cell_type": "code",
   "execution_count": 17,
   "metadata": {},
   "outputs": [],
   "source": [
    "def averagePerWeekday(stage):\n",
    "    result = {'monday': 0.0, 'tuesday': 0.0, 'wednesday': 0.0, 'thursday': 0.0, \n",
    "              'friday': 0.0, 'saturday': 0.0, 'sunday': 0.0}\n",
    "    for day in result.keys():\n",
    "        result[day] = stage.loc[stage['weekday'] == day]['price'].astype(float).mean()\n",
    "        \n",
    "    return result\n",
    "\n",
    "def stdPerWeekday(stage):\n",
    "    result = {'monday': 0.0, 'tuesday': 0.0, 'wednesday': 0.0, 'thursday': 0.0, \n",
    "              'friday': 0.0, 'saturday': 0.0, 'sunday': 0.0}\n",
    "    for day in result.keys():\n",
    "        result[day] = stage.loc[stage['weekday'] == day]['price'].astype(float).std()\n",
    "        \n",
    "    return result\n",
    "    "
   ]
  },
  {
   "cell_type": "markdown",
   "metadata": {},
   "source": [
    "We compute overall averages per weekday, as well as separate ones for each train class"
   ]
  },
  {
   "cell_type": "code",
   "execution_count": 18,
   "metadata": {},
   "outputs": [],
   "source": [
    "apw = averagePerWeekday(stageProm)\n",
    "apwTur = averagePerWeekday(stageProm.loc[stageProm['train_class'] == 'Turista'])\n",
    "apwTurPlus = averagePerWeekday(stageProm.loc[stageProm['train_class'] == 'Turista Plus'])\n",
    "apwPref = averagePerWeekday(stageProm.loc[stageProm['train_class'] == 'Preferente'])"
   ]
  },
  {
   "cell_type": "markdown",
   "metadata": {},
   "source": [
    "We graph the results"
   ]
  },
  {
   "cell_type": "code",
   "execution_count": 19,
   "metadata": {},
   "outputs": [
    {
     "data": {
      "image/png": "[encoded data removed]",
      "text/plain": [
       "<Figure size 1080x648 with 1 Axes>"
      ]
     },
     "metadata": {
      "needs_background": "light"
     },
     "output_type": "display_data"
    }
   ],
   "source": [
    "fig = plt.figure(figsize=(15, 9))\n",
    "ax = plt.subplot(111)\n",
    "ax.bar(list(apw.keys()), apw.values(), color = 'blue')\n",
    "ax.set_xlabel('Weekday',fontsize=20)\n",
    "ax.set_ylabel('Average cost',fontsize=20)\n",
    "#ax.legend(loc='upper left')\n",
    "#ax.set_xlim(1870, 2018)\n",
    "#ax.grid(True)\n",
    "#ax.annotate('A',\n",
    "#            xy=(1900, 30000), xycoords='data',\n",
    "#            xytext=(-15, 25), textcoords='offset points',\n",
    "#            arrowprops=dict(facecolor='black', shrink=0.05, width = 0.5),\n",
    "#            horizontalalignment='right', verticalalignment='bottom')\n",
    "plt.show()"
   ]
  },
  {
   "cell_type": "code",
   "execution_count": 20,
   "metadata": {},
   "outputs": [
    {
     "data": {
      "image/png": "[encoded data removed]",
      "text/plain": [
       "<Figure size 1080x648 with 1 Axes>"
      ]
     },
     "metadata": {
      "needs_background": "light"
     },
     "output_type": "display_data"
    }
   ],
   "source": [
    "n_groups = 7\n",
    "meansTur = list(apwTur.values())\n",
    "meansTurPlus = list(apwTurPlus.values())\n",
    "meansPref = list(apwPref.values())\n",
    "    \n",
    "fig = plt.figure(figsize=(15, 9))\n",
    "ax = plt.subplot(111)\n",
    "index = np.arange(n_groups)\n",
    "bar_width = 0.7/3\n",
    "opacity = 0.8\n",
    "\n",
    "rects1 = plt.bar(index, meansTur, bar_width,\n",
    "alpha=opacity,\n",
    "color='b',\n",
    "label='Turista')\n",
    "\n",
    "rects2 = plt.bar(index + bar_width, meansTurPlus, bar_width,\n",
    "alpha=opacity,\n",
    "color='g',\n",
    "label='Turista Plus')\n",
    "\n",
    "rects3 = plt.bar(index + 2*bar_width, meansPref, bar_width,\n",
    "alpha=opacity,\n",
    "color='y',\n",
    "label='Preferente')\n",
    "\n",
    "plt.xticks(index + bar_width, list(apwPref.keys()))\n",
    "ax.grid(True)\n",
    "plt.legend()\n",
    "plt.xlabel('Weekday', fontsize = 20)\n",
    "plt.ylabel('Cost', fontsize = 20)\n",
    "plt.show()"
   ]
  },
  {
   "cell_type": "markdown",
   "metadata": {},
   "source": [
    "We see that, generally, the order of classes is satisfied, from Turista being the lowest cost and Preferente being the costliest.\n",
    "\n",
    "What we don't see that clearly, is any change in price per weekday."
   ]
  },
  {
   "cell_type": "markdown",
   "metadata": {},
   "source": [
    "We will see if this has to do with the time period of each trip. Trains on the weekend and around the working day should cost more and very early or very late trains should cost less."
   ]
  },
  {
   "cell_type": "code",
   "execution_count": 21,
   "metadata": {},
   "outputs": [],
   "source": [
    "stageTur = stageProm.loc[stageProm['train_class'] == 'Turista']\n",
    "\n",
    "apwTurEM = averagePerWeekday(stageTur.loc[stage['start_date'].apply(tf.getHour) < 8])\n",
    "apwTurLM = averagePerWeekday(stageTur.loc[(stage['start_date'].apply(tf.getHour) < 12) &\n",
    "                                          (stage['start_date'].apply(tf.getHour) >= 8)])\n",
    "apwTurEA = averagePerWeekday(stageTur.loc[(stage['start_date'].apply(tf.getHour) < 16) &\n",
    "                                          (stage['start_date'].apply(tf.getHour) >= 12)])\n",
    "apwTurLA = averagePerWeekday(stageTur.loc[(stage['start_date'].apply(tf.getHour) < 19) &\n",
    "                                          (stage['start_date'].apply(tf.getHour) >= 16)])\n",
    "apwTurEE = averagePerWeekday(stageTur.loc[(stage['start_date'].apply(tf.getHour) < 22) &\n",
    "                                          (stage['start_date'].apply(tf.getHour) >= 19)])\n",
    "apwTurLE = averagePerWeekday(stageTur.loc[(stage['start_date'].apply(tf.getHour) >= 22)])\n",
    "\n",
    "spwTurEM = stdPerWeekday(stageTur.loc[stage['start_date'].apply(tf.getHour) < 8])\n",
    "spwTurLM = stdPerWeekday(stageTur.loc[(stage['start_date'].apply(tf.getHour) < 12) &\n",
    "                                          (stage['start_date'].apply(tf.getHour) >= 8)])\n",
    "spwTurEA = stdPerWeekday(stageTur.loc[(stage['start_date'].apply(tf.getHour) < 16) &\n",
    "                                          (stage['start_date'].apply(tf.getHour) >= 12)])\n",
    "spwTurLA = stdPerWeekday(stageTur.loc[(stage['start_date'].apply(tf.getHour) < 19) &\n",
    "                                          (stage['start_date'].apply(tf.getHour) >= 16)])\n",
    "spwTurEE = stdPerWeekday(stageTur.loc[(stage['start_date'].apply(tf.getHour) < 22) &\n",
    "                                          (stage['start_date'].apply(tf.getHour) >= 19)])\n",
    "spwTurLE = stdPerWeekday(stageTur.loc[(stage['start_date'].apply(tf.getHour) >= 22)])"
   ]
  },
  {
   "cell_type": "markdown",
   "metadata": {},
   "source": [
    "We graph the results"
   ]
  },
  {
   "cell_type": "code",
   "execution_count": 22,
   "metadata": {},
   "outputs": [
    {
     "data": {
      "image/png": "[encoded data removed]",
      "text/plain": [
       "<Figure size 1080x648 with 1 Axes>"
      ]
     },
     "metadata": {
      "needs_background": "light"
     },
     "output_type": "display_data"
    }
   ],
   "source": [
    "n_groups = 7\n",
    "meansTurEM = list(apwTurEM.values())\n",
    "meansTurLM = list(apwTurLM.values())\n",
    "meansTurEA = list(apwTurEA.values())\n",
    "meansTurLA = list(apwTurLA.values())\n",
    "meansTurEE = list(apwTurEE.values())\n",
    "#meansTurLE = list(apwTurLE.values())\n",
    "    \n",
    "fig = plt.figure(figsize=(15, 9))\n",
    "ax = plt.subplot(111)\n",
    "index = np.arange(n_groups)\n",
    "bar_width = 0.7/5\n",
    "opacity = 0.8\n",
    "\n",
    "rects1 = plt.bar(index, meansTurEM, bar_width,\n",
    "alpha=opacity,\n",
    "color='purple',\n",
    "label='Early Morning')\n",
    "\n",
    "rects2 = plt.bar(index + bar_width, meansTurLM, bar_width,\n",
    "alpha=opacity,\n",
    "color='b',\n",
    "label='Late Morning')\n",
    "\n",
    "rects3 = plt.bar(index + 2*bar_width, meansTurEA, bar_width,\n",
    "alpha=opacity,\n",
    "color='g',\n",
    "label='Early Afternoon')\n",
    "\n",
    "rects4 = plt.bar(index + 3*bar_width, meansTurLA, bar_width,\n",
    "alpha=opacity,\n",
    "color='y',\n",
    "label='Late Afternoon')\n",
    "\n",
    "rects5 = plt.bar(index + 4*bar_width, meansTurEE, bar_width,\n",
    "alpha=opacity,\n",
    "color='orange',\n",
    "label='Evening')\n",
    "\n",
    "# rects6 = plt.bar(index + 5*bar_width, meansTurLE, bar_width,\n",
    "# alpha=opacity,\n",
    "# color='r',\n",
    "# label='Preferente')\n",
    "\n",
    "plt.xticks(index + 2*bar_width, list(apwPref.keys()))\n",
    "ax.grid(True)\n",
    "plt.legend()\n",
    "plt.xlabel('Weekday', fontsize = 20)\n",
    "plt.ylabel('Cost', fontsize = 20)\n",
    "plt.show()"
   ]
  },
  {
   "cell_type": "code",
   "execution_count": 23,
   "metadata": {},
   "outputs": [
    {
     "data": {
      "image/png": "[encoded data removed]",
      "text/plain": [
       "<Figure size 1080x648 with 1 Axes>"
      ]
     },
     "metadata": {
      "needs_background": "light"
     },
     "output_type": "display_data"
    }
   ],
   "source": [
    "n_groups = 7\n",
    "meansTurEM = list(spwTurEM.values())\n",
    "meansTurLM = list(spwTurLM.values())\n",
    "meansTurEA = list(spwTurEA.values())\n",
    "meansTurLA = list(spwTurLA.values())\n",
    "meansTurEE = list(spwTurEE.values())\n",
    "#meansTurLE = list(apwTurLE.values())\n",
    "    \n",
    "fig = plt.figure(figsize=(15, 9))\n",
    "ax = plt.subplot(111)\n",
    "index = np.arange(n_groups)\n",
    "bar_width = 0.7/5\n",
    "opacity = 0.8\n",
    "\n",
    "rects1 = plt.bar(index, meansTurEM, bar_width,\n",
    "alpha=opacity,\n",
    "color='purple',\n",
    "label='Early Morning')\n",
    "\n",
    "rects2 = plt.bar(index + bar_width, meansTurLM, bar_width,\n",
    "alpha=opacity,\n",
    "color='b',\n",
    "label='Late Morning')\n",
    "\n",
    "rects3 = plt.bar(index + 2*bar_width, meansTurEA, bar_width,\n",
    "alpha=opacity,\n",
    "color='g',\n",
    "label='Early Afternoon')\n",
    "\n",
    "rects4 = plt.bar(index + 3*bar_width, meansTurLA, bar_width,\n",
    "alpha=opacity,\n",
    "color='y',\n",
    "label='Late Afternoon')\n",
    "\n",
    "rects5 = plt.bar(index + 4*bar_width, meansTurEE, bar_width,\n",
    "alpha=opacity,\n",
    "color='orange',\n",
    "label='Evening')\n",
    "\n",
    "# rects6 = plt.bar(index + 5*bar_width, meansTurLE, bar_width,\n",
    "# alpha=opacity,\n",
    "# color='r',\n",
    "# label='Preferente')\n",
    "\n",
    "plt.xticks(index + 2*bar_width, list(apwPref.keys()))\n",
    "ax.grid(True)\n",
    "plt.legend()\n",
    "plt.xlabel('Weekday', fontsize = 20)\n",
    "plt.ylabel('Cost standard deviation', fontsize = 20)\n",
    "plt.show()"
   ]
  },
  {
   "cell_type": "markdown",
   "metadata": {},
   "source": [
    "We see that some of the data is very noisy and it is hard to find any conclusion."
   ]
  },
  {
   "cell_type": "markdown",
   "metadata": {},
   "source": [
    "Next we look at the average ticket cost on Wednesdays at every 30 minute time window to get an idea what creates this noise"
   ]
  },
  {
   "cell_type": "code",
   "execution_count": 24,
   "metadata": {},
   "outputs": [],
   "source": [
    "stageTurWed = stageProm.loc[(stageProm['train_class'] == 'Turista') &\n",
    "                            (stageProm['weekday'] == 'wednesday')]\n",
    "\n",
    "times = list(np.linspace(5.0, 22.5, 36))\n",
    "costs = []\n",
    "stdcosts = []\n",
    "for t in times:\n",
    "    costs.append(stageTurWed.loc[(stage['start_date'].apply(tf.getHourFloat) < t + 0.5) &\n",
    "                                 (stage['start_date'].apply(tf.getHourFloat) >= t)] \\\n",
    "                            ['price'].astype(float).mean())\n",
    "    stdcosts.append(stageTurWed.loc[(stage['start_date'].apply(tf.getHourFloat) < t + 0.5) &\n",
    "                                    (stage['start_date'].apply(tf.getHourFloat) >= t)] \\\n",
    "                               ['price'].astype(float).std())"
   ]
  },
  {
   "cell_type": "code",
   "execution_count": 25,
   "metadata": {},
   "outputs": [
    {
     "data": {
      "image/png": "[encoded data removed]",
      "text/plain": [
       "<Figure size 1080x648 with 1 Axes>"
      ]
     },
     "metadata": {
      "needs_background": "light"
     },
     "output_type": "display_data"
    }
   ],
   "source": [
    "fig = plt.figure(figsize=(15, 9))\n",
    "ax = plt.subplot(111)\n",
    "ax.bar(times, costs, 0.5, color = 'blue', edgecolor = 'white', align = 'edge')\n",
    "ax.set_xlabel('Time',fontsize=20)\n",
    "ax.set_ylabel('Average cost',fontsize=20)\n",
    "#ax.legend(loc='upper left')\n",
    "#ax.set_xlim(1870, 2018)\n",
    "#ax.grid(True)\n",
    "#ax.annotate('A',\n",
    "#            xy=(1900, 30000), xycoords='data',\n",
    "#            xytext=(-15, 25), textcoords='offset points',\n",
    "#            arrowprops=dict(facecolor='black', shrink=0.05, width = 0.5),\n",
    "#            horizontalalignment='right', verticalalignment='bottom')\n",
    "plt.show()"
   ]
  },
  {
   "cell_type": "code",
   "execution_count": 26,
   "metadata": {},
   "outputs": [
    {
     "data": {
      "image/png": "[encoded data removed]",
      "text/plain": [
       "<Figure size 1080x648 with 1 Axes>"
      ]
     },
     "metadata": {
      "needs_background": "light"
     },
     "output_type": "display_data"
    }
   ],
   "source": [
    "fig = plt.figure(figsize=(15, 9))\n",
    "ax = plt.subplot(111)\n",
    "ax.bar(times, stdcosts, 0.5, color = 'blue', edgecolor = 'white', align = 'edge')\n",
    "ax.set_xlabel('Time',fontsize=20)\n",
    "ax.set_ylabel('Average cost SD',fontsize=20)\n",
    "#ax.legend(loc='upper left')\n",
    "#ax.set_xlim(1870, 2018)\n",
    "#ax.grid(True)\n",
    "#ax.annotate('A',\n",
    "#            xy=(1900, 30000), xycoords='data',\n",
    "#            xytext=(-15, 25), textcoords='offset points',\n",
    "#            arrowprops=dict(facecolor='black', shrink=0.05, width = 0.5),\n",
    "#            horizontalalignment='right', verticalalignment='bottom')\n",
    "plt.show()"
   ]
  },
  {
   "cell_type": "markdown",
   "metadata": {},
   "source": [
    "There is a very high variation period between 8:00 and 8:30. Let's look at the data in more detail"
   ]
  },
  {
   "cell_type": "code",
   "execution_count": 27,
   "metadata": {},
   "outputs": [
    {
     "data": {
      "text/html": [
       "<div>\n",
       "<style scoped>\n",
       "    .dataframe tbody tr th:only-of-type {\n",
       "        vertical-align: middle;\n",
       "    }\n",
       "\n",
       "    .dataframe tbody tr th {\n",
       "        vertical-align: top;\n",
       "    }\n",
       "\n",
       "    .dataframe thead th {\n",
       "        text-align: right;\n",
       "    }\n",
       "</style>\n",
       "<table border=\"1\" class=\"dataframe\">\n",
       "  <thead>\n",
       "    <tr style=\"text-align: right;\">\n",
       "      <th></th>\n",
       "      <th>insert_date</th>\n",
       "      <th>origin</th>\n",
       "      <th>destination</th>\n",
       "      <th>start_date</th>\n",
       "      <th>end_date</th>\n",
       "      <th>train_type</th>\n",
       "      <th>price</th>\n",
       "      <th>train_class</th>\n",
       "      <th>fare</th>\n",
       "      <th>weekday</th>\n",
       "    </tr>\n",
       "  </thead>\n",
       "  <tbody>\n",
       "    <tr>\n",
       "      <th>2255</th>\n",
       "      <td>2019-04-19 06:03:47</td>\n",
       "      <td>MADRID</td>\n",
       "      <td>BARCELONA</td>\n",
       "      <td>2019-05-22 08:00:00</td>\n",
       "      <td>2019-05-22 10:30:00</td>\n",
       "      <td>AVE</td>\n",
       "      <td>100.4</td>\n",
       "      <td>Turista</td>\n",
       "      <td>Promo</td>\n",
       "      <td>wednesday</td>\n",
       "    </tr>\n",
       "    <tr>\n",
       "      <th>2256</th>\n",
       "      <td>2019-04-19 06:03:47</td>\n",
       "      <td>MADRID</td>\n",
       "      <td>BARCELONA</td>\n",
       "      <td>2019-05-22 08:20:00</td>\n",
       "      <td>2019-05-22 11:05:00</td>\n",
       "      <td>AVE</td>\n",
       "      <td>40.95</td>\n",
       "      <td>Turista</td>\n",
       "      <td>Promo</td>\n",
       "      <td>wednesday</td>\n",
       "    </tr>\n",
       "    <tr>\n",
       "      <th>2610</th>\n",
       "      <td>2019-04-19 06:05:30</td>\n",
       "      <td>MADRID</td>\n",
       "      <td>BARCELONA</td>\n",
       "      <td>2019-05-08 08:00:00</td>\n",
       "      <td>2019-05-08 10:30:00</td>\n",
       "      <td>AVE</td>\n",
       "      <td>100.4</td>\n",
       "      <td>Turista</td>\n",
       "      <td>Promo</td>\n",
       "      <td>wednesday</td>\n",
       "    </tr>\n",
       "    <tr>\n",
       "      <th>2611</th>\n",
       "      <td>2019-04-19 06:05:30</td>\n",
       "      <td>MADRID</td>\n",
       "      <td>BARCELONA</td>\n",
       "      <td>2019-05-08 08:20:00</td>\n",
       "      <td>2019-05-08 11:05:00</td>\n",
       "      <td>AVE</td>\n",
       "      <td>58.15</td>\n",
       "      <td>Turista</td>\n",
       "      <td>Promo</td>\n",
       "      <td>wednesday</td>\n",
       "    </tr>\n",
       "    <tr>\n",
       "      <th>10895</th>\n",
       "      <td>2019-04-19 07:24:39</td>\n",
       "      <td>MADRID</td>\n",
       "      <td>BARCELONA</td>\n",
       "      <td>2019-04-24 08:00:00</td>\n",
       "      <td>2019-04-24 10:30:00</td>\n",
       "      <td>AVE</td>\n",
       "      <td>78.8</td>\n",
       "      <td>Turista</td>\n",
       "      <td>Promo</td>\n",
       "      <td>wednesday</td>\n",
       "    </tr>\n",
       "    <tr>\n",
       "      <th>11008</th>\n",
       "      <td>2019-04-19 07:25:37</td>\n",
       "      <td>MADRID</td>\n",
       "      <td>BARCELONA</td>\n",
       "      <td>2019-05-29 08:00:00</td>\n",
       "      <td>2019-05-29 10:30:00</td>\n",
       "      <td>AVE</td>\n",
       "      <td>100.4</td>\n",
       "      <td>Turista</td>\n",
       "      <td>Promo</td>\n",
       "      <td>wednesday</td>\n",
       "    </tr>\n",
       "    <tr>\n",
       "      <th>11009</th>\n",
       "      <td>2019-04-19 07:25:37</td>\n",
       "      <td>MADRID</td>\n",
       "      <td>BARCELONA</td>\n",
       "      <td>2019-05-29 08:20:00</td>\n",
       "      <td>2019-05-29 11:05:00</td>\n",
       "      <td>AVE</td>\n",
       "      <td>58.15</td>\n",
       "      <td>Turista</td>\n",
       "      <td>Promo</td>\n",
       "      <td>wednesday</td>\n",
       "    </tr>\n",
       "    <tr>\n",
       "      <th>11567</th>\n",
       "      <td>2019-04-19 07:28:04</td>\n",
       "      <td>MADRID</td>\n",
       "      <td>BARCELONA</td>\n",
       "      <td>2019-05-08 08:00:00</td>\n",
       "      <td>2019-05-08 10:30:00</td>\n",
       "      <td>AVE</td>\n",
       "      <td>100.4</td>\n",
       "      <td>Turista</td>\n",
       "      <td>Promo</td>\n",
       "      <td>wednesday</td>\n",
       "    </tr>\n",
       "    <tr>\n",
       "      <th>11568</th>\n",
       "      <td>2019-04-19 07:28:04</td>\n",
       "      <td>MADRID</td>\n",
       "      <td>BARCELONA</td>\n",
       "      <td>2019-05-08 08:20:00</td>\n",
       "      <td>2019-05-08 11:05:00</td>\n",
       "      <td>AVE</td>\n",
       "      <td>58.15</td>\n",
       "      <td>Turista</td>\n",
       "      <td>Promo</td>\n",
       "      <td>wednesday</td>\n",
       "    </tr>\n",
       "    <tr>\n",
       "      <th>14161</th>\n",
       "      <td>2019-04-19 08:13:11</td>\n",
       "      <td>MADRID</td>\n",
       "      <td>BARCELONA</td>\n",
       "      <td>2019-04-24 08:00:00</td>\n",
       "      <td>2019-04-24 10:30:00</td>\n",
       "      <td>AVE</td>\n",
       "      <td>78.8</td>\n",
       "      <td>Turista</td>\n",
       "      <td>Promo</td>\n",
       "      <td>wednesday</td>\n",
       "    </tr>\n",
       "    <tr>\n",
       "      <th>14288</th>\n",
       "      <td>2019-04-19 08:14:09</td>\n",
       "      <td>MADRID</td>\n",
       "      <td>BARCELONA</td>\n",
       "      <td>2019-05-29 08:00:00</td>\n",
       "      <td>2019-05-29 10:30:00</td>\n",
       "      <td>AVE</td>\n",
       "      <td>100.4</td>\n",
       "      <td>Turista</td>\n",
       "      <td>Promo</td>\n",
       "      <td>wednesday</td>\n",
       "    </tr>\n",
       "    <tr>\n",
       "      <th>14289</th>\n",
       "      <td>2019-04-19 08:14:09</td>\n",
       "      <td>MADRID</td>\n",
       "      <td>BARCELONA</td>\n",
       "      <td>2019-05-29 08:20:00</td>\n",
       "      <td>2019-05-29 11:05:00</td>\n",
       "      <td>AVE</td>\n",
       "      <td>58.15</td>\n",
       "      <td>Turista</td>\n",
       "      <td>Promo</td>\n",
       "      <td>wednesday</td>\n",
       "    </tr>\n",
       "  </tbody>\n",
       "</table>\n",
       "</div>"
      ],
      "text/plain": [
       "               insert_date  origin destination           start_date  \\\n",
       "2255   2019-04-19 06:03:47  MADRID   BARCELONA  2019-05-22 08:00:00   \n",
       "2256   2019-04-19 06:03:47  MADRID   BARCELONA  2019-05-22 08:20:00   \n",
       "2610   2019-04-19 06:05:30  MADRID   BARCELONA  2019-05-08 08:00:00   \n",
       "2611   2019-04-19 06:05:30  MADRID   BARCELONA  2019-05-08 08:20:00   \n",
       "10895  2019-04-19 07:24:39  MADRID   BARCELONA  2019-04-24 08:00:00   \n",
       "11008  2019-04-19 07:25:37  MADRID   BARCELONA  2019-05-29 08:00:00   \n",
       "11009  2019-04-19 07:25:37  MADRID   BARCELONA  2019-05-29 08:20:00   \n",
       "11567  2019-04-19 07:28:04  MADRID   BARCELONA  2019-05-08 08:00:00   \n",
       "11568  2019-04-19 07:28:04  MADRID   BARCELONA  2019-05-08 08:20:00   \n",
       "14161  2019-04-19 08:13:11  MADRID   BARCELONA  2019-04-24 08:00:00   \n",
       "14288  2019-04-19 08:14:09  MADRID   BARCELONA  2019-05-29 08:00:00   \n",
       "14289  2019-04-19 08:14:09  MADRID   BARCELONA  2019-05-29 08:20:00   \n",
       "\n",
       "                  end_date train_type  price train_class   fare    weekday  \n",
       "2255   2019-05-22 10:30:00        AVE  100.4     Turista  Promo  wednesday  \n",
       "2256   2019-05-22 11:05:00        AVE  40.95     Turista  Promo  wednesday  \n",
       "2610   2019-05-08 10:30:00        AVE  100.4     Turista  Promo  wednesday  \n",
       "2611   2019-05-08 11:05:00        AVE  58.15     Turista  Promo  wednesday  \n",
       "10895  2019-04-24 10:30:00        AVE   78.8     Turista  Promo  wednesday  \n",
       "11008  2019-05-29 10:30:00        AVE  100.4     Turista  Promo  wednesday  \n",
       "11009  2019-05-29 11:05:00        AVE  58.15     Turista  Promo  wednesday  \n",
       "11567  2019-05-08 10:30:00        AVE  100.4     Turista  Promo  wednesday  \n",
       "11568  2019-05-08 11:05:00        AVE  58.15     Turista  Promo  wednesday  \n",
       "14161  2019-04-24 10:30:00        AVE   78.8     Turista  Promo  wednesday  \n",
       "14288  2019-05-29 10:30:00        AVE  100.4     Turista  Promo  wednesday  \n",
       "14289  2019-05-29 11:05:00        AVE  58.15     Turista  Promo  wednesday  "
      ]
     },
     "execution_count": 27,
     "metadata": {},
     "output_type": "execute_result"
    }
   ],
   "source": [
    "stageTurWed.loc[(stage['start_date'].apply(tf.getHourFloat) < 8.0 + 0.5) &\n",
    "                                    (stage['start_date'].apply(tf.getHourFloat) >= 8.0)].head(12)"
   ]
  },
  {
   "cell_type": "markdown",
   "metadata": {},
   "source": [
    "It looks like the price alternates between a low value on the hour and a very high value at 20 past the hour.\n",
    "It is uncertain what causes this discrepancy in prices, but it could be that some trips have stops and others do not (the cheaper trips do take 15 extra minutes).\n",
    "\n",
    "Because of this, using the average ticket price is probably not very suitable, as most consumers would choose the lowest price of the two trips."
   ]
  },
  {
   "cell_type": "markdown",
   "metadata": {},
   "source": [
    "## Lowest Price Analysis"
   ]
  },
  {
   "cell_type": "markdown",
   "metadata": {},
   "source": [
    "The prices we got earlier took into account big variations in price over short intervals in start times, so instead we perform a price analysis on the lowest price close to the start date."
   ]
  },
  {
   "cell_type": "code",
   "execution_count": 28,
   "metadata": {},
   "outputs": [
    {
     "data": {
      "text/html": [
       "<div>\n",
       "<style scoped>\n",
       "    .dataframe tbody tr th:only-of-type {\n",
       "        vertical-align: middle;\n",
       "    }\n",
       "\n",
       "    .dataframe tbody tr th {\n",
       "        vertical-align: top;\n",
       "    }\n",
       "\n",
       "    .dataframe thead th {\n",
       "        text-align: right;\n",
       "    }\n",
       "</style>\n",
       "<table border=\"1\" class=\"dataframe\">\n",
       "  <thead>\n",
       "    <tr style=\"text-align: right;\">\n",
       "      <th></th>\n",
       "      <th>insert_date</th>\n",
       "      <th>origin</th>\n",
       "      <th>destination</th>\n",
       "      <th>start_date</th>\n",
       "      <th>end_date</th>\n",
       "      <th>train_type</th>\n",
       "      <th>price</th>\n",
       "      <th>train_class</th>\n",
       "      <th>fare</th>\n",
       "      <th>weekday</th>\n",
       "    </tr>\n",
       "  </thead>\n",
       "  <tbody>\n",
       "    <tr>\n",
       "      <th>1907</th>\n",
       "      <td>2019-04-19 06:00:47</td>\n",
       "      <td>MADRID</td>\n",
       "      <td>BARCELONA</td>\n",
       "      <td>2019-04-27 07:30:00</td>\n",
       "      <td>2019-04-27 10:40:00</td>\n",
       "      <td>AVE</td>\n",
       "      <td>75.4</td>\n",
       "      <td>Turista</td>\n",
       "      <td>Promo</td>\n",
       "      <td>saturday</td>\n",
       "    </tr>\n",
       "    <tr>\n",
       "      <th>1915</th>\n",
       "      <td>2019-04-19 06:00:47</td>\n",
       "      <td>MADRID</td>\n",
       "      <td>BARCELONA</td>\n",
       "      <td>2019-04-27 16:30:00</td>\n",
       "      <td>2019-04-27 19:15:00</td>\n",
       "      <td>AVE</td>\n",
       "      <td>66.75</td>\n",
       "      <td>Turista</td>\n",
       "      <td>Promo</td>\n",
       "      <td>saturday</td>\n",
       "    </tr>\n",
       "    <tr>\n",
       "      <th>1916</th>\n",
       "      <td>2019-04-19 06:00:47</td>\n",
       "      <td>MADRID</td>\n",
       "      <td>BARCELONA</td>\n",
       "      <td>2019-04-27 17:30:00</td>\n",
       "      <td>2019-04-27 20:40:00</td>\n",
       "      <td>AVE</td>\n",
       "      <td>58.15</td>\n",
       "      <td>Turista</td>\n",
       "      <td>Promo</td>\n",
       "      <td>saturday</td>\n",
       "    </tr>\n",
       "    <tr>\n",
       "      <th>1919</th>\n",
       "      <td>2019-04-19 06:00:47</td>\n",
       "      <td>MADRID</td>\n",
       "      <td>BARCELONA</td>\n",
       "      <td>2019-04-27 20:30:00</td>\n",
       "      <td>2019-04-27 23:40:00</td>\n",
       "      <td>AVE</td>\n",
       "      <td>58.15</td>\n",
       "      <td>Turista</td>\n",
       "      <td>Promo</td>\n",
       "      <td>saturday</td>\n",
       "    </tr>\n",
       "    <tr>\n",
       "      <th>1920</th>\n",
       "      <td>2019-04-19 06:00:45</td>\n",
       "      <td>MADRID</td>\n",
       "      <td>BARCELONA</td>\n",
       "      <td>2019-04-28 06:20:00</td>\n",
       "      <td>2019-04-28 09:29:00</td>\n",
       "      <td>AVE</td>\n",
       "      <td>49.55</td>\n",
       "      <td>Turista</td>\n",
       "      <td>Promo</td>\n",
       "      <td>sunday</td>\n",
       "    </tr>\n",
       "  </tbody>\n",
       "</table>\n",
       "</div>"
      ],
      "text/plain": [
       "              insert_date  origin destination           start_date  \\\n",
       "1907  2019-04-19 06:00:47  MADRID   BARCELONA  2019-04-27 07:30:00   \n",
       "1915  2019-04-19 06:00:47  MADRID   BARCELONA  2019-04-27 16:30:00   \n",
       "1916  2019-04-19 06:00:47  MADRID   BARCELONA  2019-04-27 17:30:00   \n",
       "1919  2019-04-19 06:00:47  MADRID   BARCELONA  2019-04-27 20:30:00   \n",
       "1920  2019-04-19 06:00:45  MADRID   BARCELONA  2019-04-28 06:20:00   \n",
       "\n",
       "                 end_date train_type  price train_class   fare   weekday  \n",
       "1907  2019-04-27 10:40:00        AVE   75.4     Turista  Promo  saturday  \n",
       "1915  2019-04-27 19:15:00        AVE  66.75     Turista  Promo  saturday  \n",
       "1916  2019-04-27 20:40:00        AVE  58.15     Turista  Promo  saturday  \n",
       "1919  2019-04-27 23:40:00        AVE  58.15     Turista  Promo  saturday  \n",
       "1920  2019-04-28 09:29:00        AVE  49.55     Turista  Promo    sunday  "
      ]
     },
     "execution_count": 28,
     "metadata": {},
     "output_type": "execute_result"
    }
   ],
   "source": [
    "stageTur.head()"
   ]
  },
  {
   "cell_type": "markdown",
   "metadata": {},
   "source": [
    "We import a dataset containing all the information about the lowest price at each unique satrt time in a one"
   ]
  },
  {
   "cell_type": "code",
   "execution_count": 29,
   "metadata": {},
   "outputs": [],
   "source": [
    "stageDatesTur = pd.read_csv(\"renfe_lowest_price.csv\", dtype = 'str')"
   ]
  },
  {
   "cell_type": "code",
   "execution_count": 30,
   "metadata": {},
   "outputs": [
    {
     "name": "stdout",
     "output_type": "stream",
     "text": [
      "(1592, 3)\n"
     ]
    },
    {
     "data": {
      "text/html": [
       "<div>\n",
       "<style scoped>\n",
       "    .dataframe tbody tr th:only-of-type {\n",
       "        vertical-align: middle;\n",
       "    }\n",
       "\n",
       "    .dataframe tbody tr th {\n",
       "        vertical-align: top;\n",
       "    }\n",
       "\n",
       "    .dataframe thead th {\n",
       "        text-align: right;\n",
       "    }\n",
       "</style>\n",
       "<table border=\"1\" class=\"dataframe\">\n",
       "  <thead>\n",
       "    <tr style=\"text-align: right;\">\n",
       "      <th></th>\n",
       "      <th>start_date</th>\n",
       "      <th>lowest_price</th>\n",
       "      <th>weekday</th>\n",
       "    </tr>\n",
       "  </thead>\n",
       "  <tbody>\n",
       "    <tr>\n",
       "      <th>0</th>\n",
       "      <td>2019-04-27 07:30:00</td>\n",
       "      <td>49.55</td>\n",
       "      <td>saturday</td>\n",
       "    </tr>\n",
       "    <tr>\n",
       "      <th>1</th>\n",
       "      <td>2019-04-27 16:30:00</td>\n",
       "      <td>58.15</td>\n",
       "      <td>saturday</td>\n",
       "    </tr>\n",
       "    <tr>\n",
       "      <th>2</th>\n",
       "      <td>2019-04-27 17:30:00</td>\n",
       "      <td>58.15</td>\n",
       "      <td>saturday</td>\n",
       "    </tr>\n",
       "    <tr>\n",
       "      <th>3</th>\n",
       "      <td>2019-04-27 20:30:00</td>\n",
       "      <td>58.15</td>\n",
       "      <td>saturday</td>\n",
       "    </tr>\n",
       "    <tr>\n",
       "      <th>4</th>\n",
       "      <td>2019-04-28 06:20:00</td>\n",
       "      <td>49.55</td>\n",
       "      <td>sunday</td>\n",
       "    </tr>\n",
       "  </tbody>\n",
       "</table>\n",
       "</div>"
      ],
      "text/plain": [
       "            start_date lowest_price   weekday\n",
       "0  2019-04-27 07:30:00        49.55  saturday\n",
       "1  2019-04-27 16:30:00        58.15  saturday\n",
       "2  2019-04-27 17:30:00        58.15  saturday\n",
       "3  2019-04-27 20:30:00        58.15  saturday\n",
       "4  2019-04-28 06:20:00        49.55    sunday"
      ]
     },
     "execution_count": 30,
     "metadata": {},
     "output_type": "execute_result"
    }
   ],
   "source": [
    "print(stageDatesTur.shape)\n",
    "stageDatesTur.head()"
   ]
  },
  {
   "cell_type": "markdown",
   "metadata": {},
   "source": [
    "We create newer versions of average and standard deviation price per weekday functions "
   ]
  },
  {
   "cell_type": "code",
   "execution_count": 31,
   "metadata": {},
   "outputs": [],
   "source": [
    "def averageLowestPerWeekday(stage):\n",
    "    result = {'monday': 0.0, 'tuesday': 0.0, 'wednesday': 0.0, 'thursday': 0.0, \n",
    "              'friday': 0.0, 'saturday': 0.0, 'sunday': 0.0}\n",
    "    for day in result.keys():\n",
    "        result[day] = stage.loc[stage['weekday'] == day]['lowest_price'].astype(float).mean()\n",
    "        \n",
    "    return result\n",
    "\n",
    "def stdLowestPerWeekday(stage):\n",
    "    result = {'monday': 0.0, 'tuesday': 0.0, 'wednesday': 0.0, 'thursday': 0.0, \n",
    "              'friday': 0.0, 'saturday': 0.0, 'sunday': 0.0}\n",
    "    for day in result.keys():\n",
    "        result[day] = stage.loc[stage['weekday'] == day]['lowest_price'].astype(float).std()\n",
    "        \n",
    "    return result"
   ]
  },
  {
   "cell_type": "markdown",
   "metadata": {},
   "source": [
    "We compute the average lowest prices per day. Note that the evolution in price is much more regular, with higher values around the weekend and lowest values at the middle of the week."
   ]
  },
  {
   "cell_type": "code",
   "execution_count": 32,
   "metadata": {},
   "outputs": [
    {
     "data": {
      "text/plain": [
       "{'monday': 68.0595397489539,\n",
       " 'tuesday': 65.02910931174085,\n",
       " 'wednesday': 65.00011627906973,\n",
       " 'thursday': 63.139965034965044,\n",
       " 'friday': 68.68686746987949,\n",
       " 'saturday': 66.96891304347825,\n",
       " 'sunday': 73.5593142857142}"
      ]
     },
     "execution_count": 32,
     "metadata": {},
     "output_type": "execute_result"
    }
   ],
   "source": [
    "apwTurLowest = averageLowestPerWeekday(stageDatesTur)\n",
    "apwTurLowest"
   ]
  },
  {
   "cell_type": "markdown",
   "metadata": {},
   "source": [
    "We graph the results in a bar chart"
   ]
  },
  {
   "cell_type": "code",
   "execution_count": 33,
   "metadata": {},
   "outputs": [
    {
     "data": {
      "image/png": "[encoded data removed]",
      "text/plain": [
       "<Figure size 1080x648 with 1 Axes>"
      ]
     },
     "metadata": {
      "needs_background": "light"
     },
     "output_type": "display_data"
    }
   ],
   "source": [
    "n_groups = 7\n",
    "meansTur = list(apwTurLowest.values())\n",
    "    \n",
    "fig = plt.figure(figsize=(15, 9))\n",
    "ax = plt.subplot(111)\n",
    "index = np.arange(n_groups)\n",
    "bar_width = 0.7/1\n",
    "opacity = 0.8\n",
    "\n",
    "rects1 = plt.bar(index, meansTur, bar_width,\n",
    "alpha=opacity,\n",
    "color='b',\n",
    "label='Turista')\n",
    "\n",
    "plt.xticks(index, list(apwPref.keys()))\n",
    "ax.grid(True)\n",
    "plt.legend()\n",
    "plt.xlabel('Weekday', fontsize = 20)\n",
    "plt.ylabel('Cost', fontsize = 20)\n",
    "plt.show()"
   ]
  },
  {
   "cell_type": "markdown",
   "metadata": {},
   "source": [
    "We create separate data sets delimiting start dates in five time periods of the day"
   ]
  },
  {
   "cell_type": "code",
   "execution_count": 34,
   "metadata": {},
   "outputs": [],
   "source": [
    "apwTurEM = averageLowestPerWeekday(stageDatesTur.loc[stageDatesTur['start_date'].apply(getHour) < 8])\n",
    "apwTurLM = averageLowestPerWeekday(stageDatesTur.loc[(stageDatesTur['start_date'].apply(getHour) < 12) &\n",
    "                                          (stageDatesTur['start_date'].apply(getHour) >= 8)])\n",
    "apwTurEA = averageLowestPerWeekday(stageDatesTur.loc[(stageDatesTur['start_date'].apply(getHour) < 16) &\n",
    "                                          (stageDatesTur['start_date'].apply(getHour) >= 12)])\n",
    "apwTurLA = averageLowestPerWeekday(stageDatesTur.loc[(stageDatesTur['start_date'].apply(getHour) < 19) &\n",
    "                                          (stageDatesTur['start_date'].apply(getHour) >= 16)])\n",
    "apwTurEE = averageLowestPerWeekday(stageDatesTur.loc[(stageDatesTur['start_date'].apply(getHour) < 22) &\n",
    "                                          (stageDatesTur['start_date'].apply(getHour) >= 19)])\n",
    "apwTurLE = averageLowestPerWeekday(stageDatesTur.loc[(stageDatesTur['start_date'].apply(getHour) >= 22)])\n",
    "\n",
    "spwTurEM = stdLowestPerWeekday(stageDatesTur.loc[stageDatesTur['start_date'].apply(getHour) < 8])\n",
    "spwTurLM = stdLowestPerWeekday(stageDatesTur.loc[(stageDatesTur['start_date'].apply(getHour) < 12) &\n",
    "                                          (stageDatesTur['start_date'].apply(getHour) >= 8)])\n",
    "spwTurEA = stdLowestPerWeekday(stageDatesTur.loc[(stageDatesTur['start_date'].apply(getHour) < 16) &\n",
    "                                          (stageDatesTur['start_date'].apply(getHour) >= 12)])\n",
    "spwTurLA = stdLowestPerWeekday(stageDatesTur.loc[(stageDatesTur['start_date'].apply(getHour) < 19) &\n",
    "                                          (stageDatesTur['start_date'].apply(getHour) >= 16)])\n",
    "spwTurEE = stdLowestPerWeekday(stageDatesTur.loc[(stageDatesTur['start_date'].apply(getHour) < 22) &\n",
    "                                          (stageDatesTur['start_date'].apply(getHour) >= 19)])\n",
    "spwTurLE = stdLowestPerWeekday(stageDatesTur.loc[(stageDatesTur['start_date'].apply(getHour) >= 22)])"
   ]
  },
  {
   "cell_type": "markdown",
   "metadata": {},
   "source": [
    "We graph the results in a bar graph"
   ]
  },
  {
   "cell_type": "code",
   "execution_count": 35,
   "metadata": {},
   "outputs": [
    {
     "data": {
      "image/png": "[encoded data removed]",
      "text/plain": [
       "<Figure size 1080x648 with 1 Axes>"
      ]
     },
     "metadata": {
      "needs_background": "light"
     },
     "output_type": "display_data"
    }
   ],
   "source": [
    "n_groups = 7\n",
    "meansTurEM = list(apwTurEM.values())\n",
    "meansTurLM = list(apwTurLM.values())\n",
    "meansTurEA = list(apwTurEA.values())\n",
    "meansTurLA = list(apwTurLA.values())\n",
    "meansTurEE = list(apwTurEE.values())\n",
    "#meansTurLE = list(apwTurLE.values())\n",
    "    \n",
    "fig = plt.figure(figsize=(15, 9))\n",
    "ax = plt.subplot(111)\n",
    "index = np.arange(n_groups)\n",
    "bar_width = 0.7/5\n",
    "opacity = 0.8\n",
    "\n",
    "rects1 = plt.bar(index, meansTurEM, bar_width,\n",
    "alpha=opacity,\n",
    "color='purple',\n",
    "label='Early Morning')\n",
    "\n",
    "rects2 = plt.bar(index + bar_width, meansTurLM, bar_width,\n",
    "alpha=opacity,\n",
    "color='b',\n",
    "label='Late Morning')\n",
    "\n",
    "rects3 = plt.bar(index + 2*bar_width, meansTurEA, bar_width,\n",
    "alpha=opacity,\n",
    "color='g',\n",
    "label='Early Afternoon')\n",
    "\n",
    "rects4 = plt.bar(index + 3*bar_width, meansTurLA, bar_width,\n",
    "alpha=opacity,\n",
    "color='y',\n",
    "label='Late Afternoon')\n",
    "\n",
    "rects5 = plt.bar(index + 4*bar_width, meansTurEE, bar_width,\n",
    "alpha=opacity,\n",
    "color='orange',\n",
    "label='Evening')\n",
    "\n",
    "# rects6 = plt.bar(index + 5*bar_width, meansTurLE, bar_width,\n",
    "# alpha=opacity,\n",
    "# color='r',\n",
    "# label='Preferente')\n",
    "\n",
    "plt.xticks(index + 2*bar_width, list(apwPref.keys()))\n",
    "ax.grid(True)\n",
    "plt.legend()\n",
    "plt.xlabel('Weekday', fontsize = 20)\n",
    "plt.ylabel('Cost', fontsize = 20)\n",
    "plt.show()"
   ]
  },
  {
   "cell_type": "markdown",
   "metadata": {},
   "source": [
    "Note that generally, early morning and night trains are cheaper"
   ]
  },
  {
   "cell_type": "code",
   "execution_count": 36,
   "metadata": {},
   "outputs": [
    {
     "data": {
      "image/png": "[encoded data removed]",
      "text/plain": [
       "<Figure size 1080x648 with 1 Axes>"
      ]
     },
     "metadata": {
      "needs_background": "light"
     },
     "output_type": "display_data"
    }
   ],
   "source": [
    "n_groups = 7\n",
    "stdTurEM = list(spwTurEM.values())\n",
    "stdTurLM = list(spwTurLM.values())\n",
    "stdTurEA = list(spwTurEA.values())\n",
    "stdTurLA = list(spwTurLA.values())\n",
    "stdTurEE = list(spwTurEE.values())\n",
    "#meansTurLE = list(apwTurLE.values())\n",
    "    \n",
    "fig = plt.figure(figsize=(15, 9))\n",
    "ax = plt.subplot(111)\n",
    "index = np.arange(n_groups)\n",
    "bar_width = 0.7/5\n",
    "opacity = 0.8\n",
    "\n",
    "rects1 = plt.bar(index, stdTurEM, bar_width,\n",
    "alpha=opacity,\n",
    "color='purple',\n",
    "label='Early Morning')\n",
    "\n",
    "rects2 = plt.bar(index + bar_width, stdTurLM, bar_width,\n",
    "alpha=opacity,\n",
    "color='b',\n",
    "label='Late Morning')\n",
    "\n",
    "rects3 = plt.bar(index + 2*bar_width, stdTurEA, bar_width,\n",
    "alpha=opacity,\n",
    "color='g',\n",
    "label='Early Afternoon')\n",
    "\n",
    "rects4 = plt.bar(index + 3*bar_width, stdTurLA, bar_width,\n",
    "alpha=opacity,\n",
    "color='y',\n",
    "label='Late Afternoon')\n",
    "\n",
    "rects5 = plt.bar(index + 4*bar_width, stdTurEE, bar_width,\n",
    "alpha=opacity,\n",
    "color='orange',\n",
    "label='Evening')\n",
    "\n",
    "# rects6 = plt.bar(index + 5*bar_width, meansTurLE, bar_width,\n",
    "# alpha=opacity,\n",
    "# color='r',\n",
    "# label='Preferente')\n",
    "\n",
    "plt.xticks(index + 2*bar_width, list(apwPref.keys()))\n",
    "ax.grid(True)\n",
    "plt.legend()\n",
    "plt.xlabel('Weekday', fontsize = 20)\n",
    "plt.ylabel('Cost', fontsize = 20)\n",
    "plt.show()"
   ]
  },
  {
   "cell_type": "markdown",
   "metadata": {},
   "source": [
    "The results are overall better, but there is a notably big spikes of variation on Monday afternoons.\n",
    "\n",
    "We get a closer look at the data on those days."
   ]
  },
  {
   "cell_type": "code",
   "execution_count": 37,
   "metadata": {},
   "outputs": [
    {
     "data": {
      "text/html": [
       "<div>\n",
       "<style scoped>\n",
       "    .dataframe tbody tr th:only-of-type {\n",
       "        vertical-align: middle;\n",
       "    }\n",
       "\n",
       "    .dataframe tbody tr th {\n",
       "        vertical-align: top;\n",
       "    }\n",
       "\n",
       "    .dataframe thead th {\n",
       "        text-align: right;\n",
       "    }\n",
       "</style>\n",
       "<table border=\"1\" class=\"dataframe\">\n",
       "  <thead>\n",
       "    <tr style=\"text-align: right;\">\n",
       "      <th></th>\n",
       "      <th>start_date</th>\n",
       "      <th>lowest_price</th>\n",
       "      <th>weekday</th>\n",
       "    </tr>\n",
       "  </thead>\n",
       "  <tbody>\n",
       "    <tr>\n",
       "      <th>231</th>\n",
       "      <td>2019-05-20 14:00:00</td>\n",
       "      <td>75.39</td>\n",
       "      <td>monday</td>\n",
       "    </tr>\n",
       "    <tr>\n",
       "      <th>232</th>\n",
       "      <td>2019-05-20 14:30:00</td>\n",
       "      <td>75.39</td>\n",
       "      <td>monday</td>\n",
       "    </tr>\n",
       "    <tr>\n",
       "      <th>233</th>\n",
       "      <td>2019-05-20 15:00:00</td>\n",
       "      <td>75.39</td>\n",
       "      <td>monday</td>\n",
       "    </tr>\n",
       "    <tr>\n",
       "      <th>310</th>\n",
       "      <td>2019-05-13 14:00:00</td>\n",
       "      <td>66.75</td>\n",
       "      <td>monday</td>\n",
       "    </tr>\n",
       "    <tr>\n",
       "      <th>311</th>\n",
       "      <td>2019-05-13 14:30:00</td>\n",
       "      <td>66.75</td>\n",
       "      <td>monday</td>\n",
       "    </tr>\n",
       "    <tr>\n",
       "      <th>312</th>\n",
       "      <td>2019-05-13 15:00:00</td>\n",
       "      <td>66.75</td>\n",
       "      <td>monday</td>\n",
       "    </tr>\n",
       "    <tr>\n",
       "      <th>313</th>\n",
       "      <td>2019-05-13 15:30:00</td>\n",
       "      <td>66.75</td>\n",
       "      <td>monday</td>\n",
       "    </tr>\n",
       "    <tr>\n",
       "      <th>417</th>\n",
       "      <td>2019-05-06 14:00:00</td>\n",
       "      <td>75.4</td>\n",
       "      <td>monday</td>\n",
       "    </tr>\n",
       "    <tr>\n",
       "      <th>418</th>\n",
       "      <td>2019-05-06 15:00:00</td>\n",
       "      <td>68.65</td>\n",
       "      <td>monday</td>\n",
       "    </tr>\n",
       "    <tr>\n",
       "      <th>515</th>\n",
       "      <td>2019-04-29 14:00:00</td>\n",
       "      <td>58.45</td>\n",
       "      <td>monday</td>\n",
       "    </tr>\n",
       "    <tr>\n",
       "      <th>516</th>\n",
       "      <td>2019-04-29 14:30:00</td>\n",
       "      <td>58.45</td>\n",
       "      <td>monday</td>\n",
       "    </tr>\n",
       "    <tr>\n",
       "      <th>517</th>\n",
       "      <td>2019-04-29 15:00:00</td>\n",
       "      <td>58.45</td>\n",
       "      <td>monday</td>\n",
       "    </tr>\n",
       "    <tr>\n",
       "      <th>518</th>\n",
       "      <td>2019-04-29 15:30:00</td>\n",
       "      <td>58.45</td>\n",
       "      <td>monday</td>\n",
       "    </tr>\n",
       "    <tr>\n",
       "      <th>576</th>\n",
       "      <td>2019-05-27 14:00:00</td>\n",
       "      <td>66.75</td>\n",
       "      <td>monday</td>\n",
       "    </tr>\n",
       "    <tr>\n",
       "      <th>577</th>\n",
       "      <td>2019-05-27 14:30:00</td>\n",
       "      <td>66.75</td>\n",
       "      <td>monday</td>\n",
       "    </tr>\n",
       "    <tr>\n",
       "      <th>650</th>\n",
       "      <td>2019-05-27 15:30:00</td>\n",
       "      <td>66.75</td>\n",
       "      <td>monday</td>\n",
       "    </tr>\n",
       "    <tr>\n",
       "      <th>716</th>\n",
       "      <td>2019-05-06 12:30:00</td>\n",
       "      <td>66.75</td>\n",
       "      <td>monday</td>\n",
       "    </tr>\n",
       "    <tr>\n",
       "      <th>837</th>\n",
       "      <td>2019-07-01 12:30:00</td>\n",
       "      <td>85.1</td>\n",
       "      <td>monday</td>\n",
       "    </tr>\n",
       "    <tr>\n",
       "      <th>838</th>\n",
       "      <td>2019-07-01 14:00:00</td>\n",
       "      <td>40.95</td>\n",
       "      <td>monday</td>\n",
       "    </tr>\n",
       "    <tr>\n",
       "      <th>839</th>\n",
       "      <td>2019-07-01 14:30:00</td>\n",
       "      <td>40.95</td>\n",
       "      <td>monday</td>\n",
       "    </tr>\n",
       "    <tr>\n",
       "      <th>938</th>\n",
       "      <td>2019-06-24 12:30:00</td>\n",
       "      <td>85.1</td>\n",
       "      <td>monday</td>\n",
       "    </tr>\n",
       "    <tr>\n",
       "      <th>939</th>\n",
       "      <td>2019-06-24 14:30:00</td>\n",
       "      <td>32.3</td>\n",
       "      <td>monday</td>\n",
       "    </tr>\n",
       "    <tr>\n",
       "      <th>940</th>\n",
       "      <td>2019-06-24 15:00:00</td>\n",
       "      <td>32.3</td>\n",
       "      <td>monday</td>\n",
       "    </tr>\n",
       "    <tr>\n",
       "      <th>1082</th>\n",
       "      <td>2019-06-17 12:30:00</td>\n",
       "      <td>85.1</td>\n",
       "      <td>monday</td>\n",
       "    </tr>\n",
       "    <tr>\n",
       "      <th>1083</th>\n",
       "      <td>2019-06-17 14:00:00</td>\n",
       "      <td>32.3</td>\n",
       "      <td>monday</td>\n",
       "    </tr>\n",
       "    <tr>\n",
       "      <th>1084</th>\n",
       "      <td>2019-06-17 14:30:00</td>\n",
       "      <td>32.3</td>\n",
       "      <td>monday</td>\n",
       "    </tr>\n",
       "    <tr>\n",
       "      <th>1085</th>\n",
       "      <td>2019-06-17 15:00:00</td>\n",
       "      <td>32.3</td>\n",
       "      <td>monday</td>\n",
       "    </tr>\n",
       "    <tr>\n",
       "      <th>1185</th>\n",
       "      <td>2019-06-10 12:30:00</td>\n",
       "      <td>85.08</td>\n",
       "      <td>monday</td>\n",
       "    </tr>\n",
       "    <tr>\n",
       "      <th>1186</th>\n",
       "      <td>2019-06-10 14:30:00</td>\n",
       "      <td>32.3</td>\n",
       "      <td>monday</td>\n",
       "    </tr>\n",
       "    <tr>\n",
       "      <th>1187</th>\n",
       "      <td>2019-06-10 15:00:00</td>\n",
       "      <td>32.3</td>\n",
       "      <td>monday</td>\n",
       "    </tr>\n",
       "    <tr>\n",
       "      <th>1346</th>\n",
       "      <td>2019-06-03 12:30:00</td>\n",
       "      <td>85.1</td>\n",
       "      <td>monday</td>\n",
       "    </tr>\n",
       "    <tr>\n",
       "      <th>1347</th>\n",
       "      <td>2019-06-03 14:00:00</td>\n",
       "      <td>32.3</td>\n",
       "      <td>monday</td>\n",
       "    </tr>\n",
       "    <tr>\n",
       "      <th>1348</th>\n",
       "      <td>2019-06-03 14:30:00</td>\n",
       "      <td>32.3</td>\n",
       "      <td>monday</td>\n",
       "    </tr>\n",
       "    <tr>\n",
       "      <th>1349</th>\n",
       "      <td>2019-06-03 15:00:00</td>\n",
       "      <td>32.3</td>\n",
       "      <td>monday</td>\n",
       "    </tr>\n",
       "    <tr>\n",
       "      <th>1469</th>\n",
       "      <td>2019-05-06 14:30:00</td>\n",
       "      <td>75.4</td>\n",
       "      <td>monday</td>\n",
       "    </tr>\n",
       "    <tr>\n",
       "      <th>1506</th>\n",
       "      <td>2019-04-15 14:00:00</td>\n",
       "      <td>100.4</td>\n",
       "      <td>monday</td>\n",
       "    </tr>\n",
       "    <tr>\n",
       "      <th>1525</th>\n",
       "      <td>2019-05-20 15:30:00</td>\n",
       "      <td>75.39</td>\n",
       "      <td>monday</td>\n",
       "    </tr>\n",
       "  </tbody>\n",
       "</table>\n",
       "</div>"
      ],
      "text/plain": [
       "               start_date lowest_price weekday\n",
       "231   2019-05-20 14:00:00        75.39  monday\n",
       "232   2019-05-20 14:30:00        75.39  monday\n",
       "233   2019-05-20 15:00:00        75.39  monday\n",
       "310   2019-05-13 14:00:00        66.75  monday\n",
       "311   2019-05-13 14:30:00        66.75  monday\n",
       "312   2019-05-13 15:00:00        66.75  monday\n",
       "313   2019-05-13 15:30:00        66.75  monday\n",
       "417   2019-05-06 14:00:00         75.4  monday\n",
       "418   2019-05-06 15:00:00        68.65  monday\n",
       "515   2019-04-29 14:00:00        58.45  monday\n",
       "516   2019-04-29 14:30:00        58.45  monday\n",
       "517   2019-04-29 15:00:00        58.45  monday\n",
       "518   2019-04-29 15:30:00        58.45  monday\n",
       "576   2019-05-27 14:00:00        66.75  monday\n",
       "577   2019-05-27 14:30:00        66.75  monday\n",
       "650   2019-05-27 15:30:00        66.75  monday\n",
       "716   2019-05-06 12:30:00        66.75  monday\n",
       "837   2019-07-01 12:30:00         85.1  monday\n",
       "838   2019-07-01 14:00:00        40.95  monday\n",
       "839   2019-07-01 14:30:00        40.95  monday\n",
       "938   2019-06-24 12:30:00         85.1  monday\n",
       "939   2019-06-24 14:30:00         32.3  monday\n",
       "940   2019-06-24 15:00:00         32.3  monday\n",
       "1082  2019-06-17 12:30:00         85.1  monday\n",
       "1083  2019-06-17 14:00:00         32.3  monday\n",
       "1084  2019-06-17 14:30:00         32.3  monday\n",
       "1085  2019-06-17 15:00:00         32.3  monday\n",
       "1185  2019-06-10 12:30:00        85.08  monday\n",
       "1186  2019-06-10 14:30:00         32.3  monday\n",
       "1187  2019-06-10 15:00:00         32.3  monday\n",
       "1346  2019-06-03 12:30:00         85.1  monday\n",
       "1347  2019-06-03 14:00:00         32.3  monday\n",
       "1348  2019-06-03 14:30:00         32.3  monday\n",
       "1349  2019-06-03 15:00:00         32.3  monday\n",
       "1469  2019-05-06 14:30:00         75.4  monday\n",
       "1506  2019-04-15 14:00:00        100.4  monday\n",
       "1525  2019-05-20 15:30:00        75.39  monday"
      ]
     },
     "execution_count": 37,
     "metadata": {},
     "output_type": "execute_result"
    }
   ],
   "source": [
    "stageDatesTur.loc[(stageDatesTur['start_date'].apply(getHour) < 16) & \n",
    "                  (stageDatesTur['start_date'].apply(getHour) >= 12) & \n",
    "                  (stageDatesTur['weekday'] == 'monday')]"
   ]
  },
  {
   "cell_type": "code",
   "execution_count": 38,
   "metadata": {},
   "outputs": [],
   "source": [
    "#stageDatesTur.loc[(stageDatesTur['start_date'].apply(getHour) < 12) &\n",
    "#                  (stageDatesTur['start_date'].apply(getHour) >= 8) & \n",
    "#                  (stageDatesTur['weekday'] == 'wednesday')]"
   ]
  },
  {
   "cell_type": "markdown",
   "metadata": {},
   "source": [
    "### To do: maybe play around with window width, time periods"
   ]
  },
  {
   "cell_type": "markdown",
   "metadata": {},
   "source": [
    "### To do: Do this for other train classes, train types (?), destinations"
   ]
  },
  {
   "cell_type": "code",
   "execution_count": null,
   "metadata": {},
   "outputs": [],
   "source": []
  }
 ],
 "metadata": {
  "kernelspec": {
   "display_name": "Python 3",
   "language": "python",
   "name": "python3"
  },
  "language_info": {
   "codemirror_mode": {
    "name": "ipython",
    "version": 3
   },
   "file_extension": ".py",
   "mimetype": "text/x-python",
   "name": "python",
   "nbconvert_exporter": "python",
   "pygments_lexer": "ipython3",
   "version": "3.7.0"
  }
 },
 "nbformat": 4,
 "nbformat_minor": 2
}
