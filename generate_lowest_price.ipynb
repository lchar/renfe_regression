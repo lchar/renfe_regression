{
 "cells": [
  {
   "cell_type": "markdown",
   "metadata": {},
   "source": [
    "# Generate Lowest Price Data\n",
    "This notebook generates the lowest price data from the renfe dataset.\n",
    "This is done in a separate file, because it is a lengthy computation, so we will save it in a csv file."
   ]
  },
  {
   "cell_type": "code",
   "execution_count": 1,
   "metadata": {},
   "outputs": [],
   "source": [
    "import pandas as pd\n",
    "import string\n",
    "import os\n",
    "\n",
    "# This next import is some date functions I created\n",
    "import timefuns as tf"
   ]
  },
  {
   "cell_type": "markdown",
   "metadata": {},
   "source": [
    "Before importing the data, we get the column names, so we can remove the unnamed column."
   ]
  },
  {
   "cell_type": "code",
   "execution_count": 2,
   "metadata": {},
   "outputs": [
    {
     "name": "stdout",
     "output_type": "stream",
     "text": [
      "['Unnamed: 0', 'insert_date', 'origin', 'destination', 'start_date', 'end_date', 'train_type', 'price', 'train_class', 'fare']\n"
     ]
    }
   ],
   "source": [
    "cols = list(pd.read_csv(\"renfe.csv\", nrows =1))\n",
    "print(cols)"
   ]
  },
  {
   "cell_type": "code",
   "execution_count": 3,
   "metadata": {},
   "outputs": [],
   "source": [
    "raw_data = pd.read_csv(\"renfe.csv\", dtype = 'str', usecols = [i for i in cols if i != 'Unnamed: 0'])"
   ]
  },
  {
   "cell_type": "markdown",
   "metadata": {},
   "source": [
    "We then restrict the data to trains from Madrid to Barcelona, train type AVE, and drop empty price entries."
   ]
  },
  {
   "cell_type": "code",
   "execution_count": 4,
   "metadata": {},
   "outputs": [],
   "source": [
    "stage = raw_data.loc[(raw_data['origin'] == 'MADRID') & \n",
    "                     (raw_data['destination'] == 'BARCELONA') &\n",
    "                     (raw_data['train_type'] == 'AVE')]\n",
    "stage = stage.dropna(subset = ['price'])"
   ]
  },
  {
   "cell_type": "markdown",
   "metadata": {},
   "source": [
    "We then restrict to entries of fare type 'Promo' and train class 'Turista'"
   ]
  },
  {
   "cell_type": "code",
   "execution_count": 5,
   "metadata": {},
   "outputs": [],
   "source": [
    "stageProm = stage.loc[stage['fare'] == 'Promo']\n",
    "stageFlex = stage.loc[stage['fare'] == 'Flexible']"
   ]
  },
  {
   "cell_type": "code",
   "execution_count": 6,
   "metadata": {},
   "outputs": [],
   "source": [
    "stageTur = stageProm.loc[stageProm['train_class'] == 'Turista']"
   ]
  },
  {
   "cell_type": "markdown",
   "metadata": {},
   "source": [
    "We create a function that returns the lowest price within a one-hour window of a given time"
   ]
  },
  {
   "cell_type": "code",
   "execution_count": 7,
   "metadata": {},
   "outputs": [],
   "source": [
    "def getLowestPrice(date):\n",
    "    return stageTur.loc[(stageTur['start_date'].apply(tf.getDate) == tf.getDate(date)) &\n",
    "                        (stageTur['start_date'].apply(tf.getHourFloat) - tf.getHourFloat(date) < 1.1) &\n",
    "                        (stageTur['start_date'].apply(tf.getHourFloat) - tf.getHourFloat(date) > -1.1)]\\\n",
    "                       ['price'].astype(float).min()"
   ]
  },
  {
   "cell_type": "markdown",
   "metadata": {},
   "source": [
    "We create a data set with all the unique start times, lowest prices and weekdays"
   ]
  },
  {
   "cell_type": "code",
   "execution_count": 8,
   "metadata": {},
   "outputs": [],
   "source": [
    "stageDatesTur = pd.DataFrame(stageTur['start_date'].unique())\n",
    "stageDatesTur.columns = ['start_date']\n",
    "stageDatesTur['lowest_price'] = stageDatesTur['start_date'].apply(getLowestPrice)\n",
    "stageDatesTur['weekday'] = stageDatesTur['start_date'].apply(tf.weekday)"
   ]
  },
  {
   "cell_type": "markdown",
   "metadata": {},
   "source": [
    "We save the dataset into a csv file"
   ]
  },
  {
   "cell_type": "code",
   "execution_count": 9,
   "metadata": {},
   "outputs": [],
   "source": [
    "stageDatesTur.to_csv(r'.\\renfe_lowest_price.csv', index = None)"
   ]
  },
  {
   "cell_type": "code",
   "execution_count": 10,
   "metadata": {},
   "outputs": [
    {
     "data": {
      "text/html": [
       "<div>\n",
       "<style scoped>\n",
       "    .dataframe tbody tr th:only-of-type {\n",
       "        vertical-align: middle;\n",
       "    }\n",
       "\n",
       "    .dataframe tbody tr th {\n",
       "        vertical-align: top;\n",
       "    }\n",
       "\n",
       "    .dataframe thead th {\n",
       "        text-align: right;\n",
       "    }\n",
       "</style>\n",
       "<table border=\"1\" class=\"dataframe\">\n",
       "  <thead>\n",
       "    <tr style=\"text-align: right;\">\n",
       "      <th></th>\n",
       "      <th>start_date</th>\n",
       "      <th>lowest_price</th>\n",
       "      <th>weekday</th>\n",
       "    </tr>\n",
       "  </thead>\n",
       "  <tbody>\n",
       "    <tr>\n",
       "      <th>0</th>\n",
       "      <td>2019-04-27 07:30:00</td>\n",
       "      <td>49.55</td>\n",
       "      <td>saturday</td>\n",
       "    </tr>\n",
       "    <tr>\n",
       "      <th>1</th>\n",
       "      <td>2019-04-27 16:30:00</td>\n",
       "      <td>58.15</td>\n",
       "      <td>saturday</td>\n",
       "    </tr>\n",
       "    <tr>\n",
       "      <th>2</th>\n",
       "      <td>2019-04-27 17:30:00</td>\n",
       "      <td>58.15</td>\n",
       "      <td>saturday</td>\n",
       "    </tr>\n",
       "    <tr>\n",
       "      <th>3</th>\n",
       "      <td>2019-04-27 20:30:00</td>\n",
       "      <td>58.15</td>\n",
       "      <td>saturday</td>\n",
       "    </tr>\n",
       "    <tr>\n",
       "      <th>4</th>\n",
       "      <td>2019-04-28 06:20:00</td>\n",
       "      <td>49.55</td>\n",
       "      <td>sunday</td>\n",
       "    </tr>\n",
       "  </tbody>\n",
       "</table>\n",
       "</div>"
      ],
      "text/plain": [
       "            start_date  lowest_price   weekday\n",
       "0  2019-04-27 07:30:00         49.55  saturday\n",
       "1  2019-04-27 16:30:00         58.15  saturday\n",
       "2  2019-04-27 17:30:00         58.15  saturday\n",
       "3  2019-04-27 20:30:00         58.15  saturday\n",
       "4  2019-04-28 06:20:00         49.55    sunday"
      ]
     },
     "execution_count": 10,
     "metadata": {},
     "output_type": "execute_result"
    }
   ],
   "source": [
    "stageDatesTur.head()"
   ]
  },
  {
   "cell_type": "code",
   "execution_count": null,
   "metadata": {},
   "outputs": [],
   "source": []
  }
 ],
 "metadata": {
  "kernelspec": {
   "display_name": "Python 3",
   "language": "python",
   "name": "python3"
  },
  "language_info": {
   "codemirror_mode": {
    "name": "ipython",
    "version": 3
   },
   "file_extension": ".py",
   "mimetype": "text/x-python",
   "name": "python",
   "nbconvert_exporter": "python",
   "pygments_lexer": "ipython3",
   "version": "3.7.0"
  }
 },
 "nbformat": 4,
 "nbformat_minor": 2
}
